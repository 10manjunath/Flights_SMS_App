{
 "cells": [
  {
   "cell_type": "markdown",
   "metadata": {},
   "source": [
    "# Favorite Destination Flight SMS and MMS Application\n",
    "\n",
    "### Used Google API, Wolfram API and Twilio API\n",
    "\n",
    "Google API - For Flight Search\n",
    "\n",
    "Wolfram API - For Plotting on Map\n",
    "\n",
    "Twilio API - For sending SMS and MMS\n",
    "\n",
    "Mashape API - Phone Number Lookup API\n",
    "\n",
    "##### Turn On your mobile internet data to receive MMS messages."
   ]
  },
  {
   "cell_type": "code",
   "execution_count": 4,
   "metadata": {},
   "outputs": [
    {
     "name": "stdout",
     "output_type": "stream",
     "text": [
      "Enter your Favorite City Airport Code: CMB\n",
      "Enter your Phone number to receive a flight plan MMS message: 3154501435\n",
      "MMS message sending . . . Thank you\n",
      "Enter your Favorite City Airport Code: quit\n",
      "Enter your Phone number to receive a flight plan MMS message: quit\n",
      "Thank you for using the Flight SMS application\n"
     ]
    }
   ],
   "source": [
    "import pandas as pd\n",
    "import requests\n",
    "import json\n",
    "\n",
    "\n",
    "# This function takes input for 2 variables. Airport Code and Phone number.\n",
    "# Airport code needs to be exactly 3 letters\n",
    "# Phone number needs to be exactly 10 digits\n",
    "# When the input is valid, the program runs to the next part\n",
    "# When the inputs are invalid, it runs again until user enters correct inputs\n",
    "# input function will return Phone Number and Airport Code for further processing\n",
    "\n",
    "def input_func():\n",
    "    while True:\n",
    "        fav_airport_code = input(\"Enter your Favorite City Airport Code: \")\n",
    "        phone = input(\"Enter your Phone number to receive a flight plan MMS message: \")\n",
    "        if(fav_airport_code==\"quit\" or phone==\"quit\"):\n",
    "            print(\"Thank you for using the Flight SMS application\")\n",
    "            break\n",
    "        elif(len(fav_airport_code)!=3 or fav_airport_code.isalpha()!=True or len(phone)!=10 or phone.isalpha()==True):\n",
    "            print(\"Inputs error. Please put valid airport code and phone number\")\n",
    "        else:\n",
    "            return (fav_airport_code, phone)\n",
    "    return False\n",
    "# This loop will take in user input information and run thru the API's\n",
    "# Google Flights API will search flight between SYR airport and destination airport\n",
    "\n",
    "while True:\n",
    "    inputdata = input_func()\n",
    "    if(inputdata==False):\n",
    "        break\n",
    "    else: # If all the inputs is correct, then API calls happen\n",
    "        fav_airport_code = inputdata[0]\n",
    "        phone = inputdata[1]\n",
    "        GoogleAPI = \"<API KEY>\"\n",
    "        \n",
    "        url = \"https://www.googleapis.com/qpxExpress/v1/trips/search?key=\"+GoogleAPI\n",
    "        headers = {'content-type' : 'application/json'}\n",
    "\n",
    "# GoogleAPI takes the data in payload variable for the post request\n",
    "        payload = {\n",
    "          \"request\": {\n",
    "            \"slice\": [\n",
    "              {\n",
    "                \"origin\": \"SYR\",\n",
    "                \"destination\": fav_airport_code,\n",
    "                \"date\": \"2017-06-05\"\n",
    "              }\n",
    "            ],\n",
    "            \"passengers\": {\n",
    "              \"adultCount\": 1,\n",
    "              \"infantInLapCount\": 0,\n",
    "              \"infantInSeatCount\": 0,\n",
    "              \"childCount\": 0,\n",
    "              \"seniorCount\": 0\n",
    "            },\n",
    "            \"solutions\": 1,\n",
    "            \"refundable\": False\n",
    "          }\n",
    "        }\n",
    "# This post request is from Google API. Returns the flight information in  json format\n",
    "        response = requests.post(url,  data=json.dumps(payload),headers=headers)\n",
    "        \n",
    "        # Response is stored in the flights dictionary\n",
    "        flights = response.json()\n",
    "        \n",
    "        # From flights dictionaty, extract the value from the 'name' key.\n",
    "        flight_name=flights['trips']['data']['carrier'][0]['name']\n",
    "        \n",
    "        # From flights dictionary, extract the cost \n",
    "        flight_cost = flights['trips']['tripOption'][0]['saleTotal']\n",
    "        \n",
    "        # From flights dictionary, extract flight data and time\n",
    "        flight_date,flight_time = str(pd.to_datetime(flights['trips']['tripOption'][0]['slice'][0]['segment'][0]['leg'][0]['departureTime'])).split()\n",
    "        \n",
    "        # Construct a friendly message with name, data, time, cost information.\n",
    "        text_message = \"Hop on a \" + flight_name + \" plane on \" + flight_date + \" at \" + flight_time + \" from Syracuse Hancock International airport for just \" + flight_cost + \" to visit your dream destination. Happy Journey. Sent from Twilio API\"\n",
    "        \n",
    "        # WolframAPI URL takes in the Airport code as input and plots a flight path and returns a PNG format image that's used by Twilio API to send as MMS to users.\n",
    "        wolfram_url = \"https://www.wolframcloud.com/objects/6be13892-cf98-4609-8e6f-3f246848e9f2?x=\"+fav_airport_code\n",
    "        \n",
    "        # After user enters phone no, store it in a text file\n",
    "        file_name = \"phone_numbers.txt\"\n",
    "        new_string = phone\n",
    "        opened_file = open(file_name, 'a')\n",
    "        opened_file.write(\"%r\\n\" %new_string)\n",
    "        opened_file.close()\n",
    "        # Append new phone numbers in the file with a new line\n",
    "        \n",
    "        \n",
    "        # Import Client package from twilio.rest library to use Twilio Programmable SMS API\n",
    "        from twilio.rest import Client\n",
    "\n",
    "        # Find these values at https://twilio.com/user/account\n",
    "        account_sid = \"<YOUR ACCOUNT SID>\"\n",
    "        auth_token = \"<YOUR AUTH TOKEN>\"\n",
    "        client = Client(account_sid, auth_token)\n",
    "        # This code sends message with a friendly text and a Image that is retrieved from the Wolfram API.\n",
    "        message = client.api.account.messages.create(to=\"+1\"+phone,\n",
    "                                             from_=\"+1<YOUR TWILIO PHONE NUMBER>\",\n",
    "                                             body=text_message,\n",
    "                                             media_url=[wolfram_url\n",
    "                                                   ])\n",
    "        print(\"MMS message sending . . . Thank you\")"
   ]
  },
  {
   "cell_type": "code",
   "execution_count": null,
   "metadata": {
    "collapsed": true
   },
   "outputs": [],
   "source": []
  },
  {
   "cell_type": "markdown",
   "metadata": {},
   "source": [
    "### Plotting phone number locations on a folium map"
   ]
  },
  {
   "cell_type": "code",
   "execution_count": 33,
   "metadata": {
    "scrolled": true
   },
   "outputs": [
    {
     "data": {
      "text/html": [
       "<div style=\"width:100%;\"><div style=\"position:relative;width:100%;height:0;padding-bottom:60%;\"><iframe src=\"data:text/html;charset=utf-8;base64,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\" style=\"position:absolute;width:100%;height:100%;left:0;top:0;border:none !important;\" allowfullscreen webkitallowfullscreen mozallowfullscreen></iframe></div></div>"
      ],
      "text/plain": [
       "<folium.folium.Map at 0x1139c4748>"
      ]
     },
     "execution_count": 33,
     "metadata": {},
     "output_type": "execute_result"
    }
   ],
   "source": [
    "# Folium package is used for plotting on the Open Street Maps \n",
    "import folium\n",
    "\n",
    "# We use this file with all the numbers  \n",
    "file_name = \"phone_numbers.txt\"\n",
    "with open(file_name) as f:\n",
    "    content = f.readlines()\n",
    "content = [x.strip('\\'') for x in content]\n",
    "\n",
    "\n",
    "CENTER_US = (39.8333333,-98.585522)\n",
    "map = folium.Map(location=CENTER_US, zoom_start=4)\n",
    "\n",
    "for pn in content:\n",
    "    try:\n",
    "        # params takes the one phone no at a time and sends it to the API to get the location\n",
    "        params = { 'phone' : pn[0:9] }\n",
    "        headers={ \"X-Mashape-Key\": \"<Your API KEY>\",\n",
    "        \"Accept\": \"application/json\" }\n",
    "        response = requests.get(\"https://cosmin-us-phone-number-lookup.p.mashape.com/get.php\", params=params, headers=headers )\n",
    "        phone_data = response.json()\n",
    "        lat,lon=phone_data['latitude'],phone_data['longitude']\n",
    "        pos = (lat,lon)\n",
    "        # Marker adds the location to the map variable that's ready to be plotted\n",
    "        marker = folium.Marker(location=pos, \n",
    "                    popup=\"%s, %s\" % (phone_data['city'],phone_data['state'])\n",
    "                          )\n",
    "        map.add_child(marker)\n",
    "    except KeyError:\n",
    "        pass\n",
    "        \n",
    "\n",
    "map # Finally, with all the coordinates, map will be plotted\n"
   ]
  },
  {
   "cell_type": "code",
   "execution_count": null,
   "metadata": {
    "collapsed": true
   },
   "outputs": [],
   "source": []
  }
 ],
 "metadata": {
  "kernelspec": {
   "display_name": "Python 3",
   "language": "python",
   "name": "python3"
  },
  "language_info": {
   "codemirror_mode": {
    "name": "ipython",
    "version": 3
   },
   "file_extension": ".py",
   "mimetype": "text/x-python",
   "name": "python",
   "nbconvert_exporter": "python",
   "pygments_lexer": "ipython3",
   "version": "3.6.0"
  }
 },
 "nbformat": 4,
 "nbformat_minor": 2
}
